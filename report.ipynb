{
 "cells": [
  {
   "cell_type": "markdown",
   "metadata": {},
   "source": [
    "# Kung Fu Pandas' Report\n",
    "-------------------\n",
    "### Authors:\n",
    "Piotr Balewski \\\n",
    "Adam Dobosz \\\n",
    "Wiktor Kamzela \\\n",
    "Michał Redmer "
   ]
  },
  {
   "cell_type": "markdown",
   "metadata": {},
   "source": [
    "## Introduction"
   ]
  },
  {
   "cell_type": "markdown",
   "metadata": {},
   "source": [
    "## Description of the dataset"
   ]
  },
  {
   "cell_type": "markdown",
   "metadata": {},
   "source": [
    "## Description of the input features"
   ]
  },
  {
   "cell_type": "markdown",
   "metadata": {},
   "source": [
    "## Exploratory Analysis of the input features"
   ]
  },
  {
   "cell_type": "markdown",
   "metadata": {},
   "source": [
    "## Preprocessing techniques used in the assignment\n",
    "### Description\n",
    "### Motivation"
   ]
  },
  {
   "cell_type": "markdown",
   "metadata": {},
   "source": [
    "## Description of the output features "
   ]
  },
  {
   "cell_type": "markdown",
   "metadata": {},
   "source": [
    "## Exploratory analysis of the output features"
   ]
  },
  {
   "cell_type": "markdown",
   "metadata": {},
   "source": [
    "Conclusions"
   ]
  },
  {
   "cell_type": "code",
   "execution_count": 20,
   "metadata": {},
   "outputs": [],
   "source": [
    "import pandas as pd\n",
    "import numpy as np\n",
    "import matplotlib.pyplot as plt\n",
    "data = pd.read_csv('CarsData.csv')"
   ]
  },
  {
   "cell_type": "code",
   "execution_count": 3,
   "metadata": {},
   "outputs": [
    {
     "name": "stdout",
     "output_type": "stream",
     "text": [
      "           model  year  price transmission  mileage fuelType  tax   mpg  \\\n",
      "0            I10  2017   7495       Manual    11630   Petrol  145  60.1   \n",
      "1           Polo  2017  10989       Manual     9200   Petrol  145  58.9   \n",
      "2       2 Series  2019  27990    Semi-Auto     1614   Diesel  145  49.6   \n",
      "3   Yeti Outdoor  2017  12495       Manual    30960   Diesel  150  62.8   \n",
      "4         Fiesta  2017   7999       Manual    19353   Petrol  125  54.3   \n",
      "\n",
      "   engineSize Manufacturer  \n",
      "0         1.0       hyundi  \n",
      "1         1.0   volkswagen  \n",
      "2         2.0          BMW  \n",
      "3         2.0        skoda  \n",
      "4         1.2         ford  \n"
     ]
    }
   ],
   "source": [
    "print(data.head())"
   ]
  },
  {
   "cell_type": "code",
   "execution_count": 4,
   "metadata": {},
   "outputs": [
    {
     "name": "stdout",
     "output_type": "stream",
     "text": [
      "model 0\n",
      "year 0\n",
      "price 0\n",
      "transmission 0\n",
      "mileage 0\n",
      "fuelType 0\n",
      "tax 0\n",
      "mpg 0\n",
      "engineSize 0\n",
      "Manufacturer 0\n"
     ]
    }
   ],
   "source": [
    "for col in data.columns:\n",
    "    # print number of nan values\n",
    "    print(col, data[col].isnull().sum())"
   ]
  },
  {
   "cell_type": "code",
   "execution_count": 8,
   "metadata": {},
   "outputs": [
    {
     "name": "stdout",
     "output_type": "stream",
     "text": [
      "196\n"
     ]
    }
   ],
   "source": [
    "print(data.model.nunique())"
   ]
  },
  {
   "cell_type": "code",
   "execution_count": 18,
   "metadata": {},
   "outputs": [
    {
     "name": "stdout",
     "output_type": "stream",
     "text": [
      "0.6588852955624692\n"
     ]
    }
   ],
   "source": [
    "# print only values of model column that constitue over 1% of the data\n",
    "models_over_1percent = data.model.value_counts(normalize=True)[data.model.value_counts(normalize=True) > 0.01]\n",
    "# sum of all values that are over 1%\n",
    "print(models_over_1percent.sum())"
   ]
  },
  {
   "cell_type": "code",
   "execution_count": 19,
   "metadata": {},
   "outputs": [
    {
     "name": "stdout",
     "output_type": "stream",
     "text": [
      "model\n",
      " Fiesta      0.066614\n",
      " Golf        0.049093\n",
      " Focus       0.046617\n",
      " C Class     0.037805\n",
      " Corsa       0.033619\n",
      " Polo        0.033200\n",
      " Astra       0.027172\n",
      " A Class     0.025319\n",
      " 3 Series    0.024910\n",
      " Kuga        0.022597\n",
      " Yaris       0.021666\n",
      " Mokka X     0.021604\n",
      " 1 Series    0.020079\n",
      " Aygo        0.019854\n",
      " E Class     0.019721\n",
      " A3          0.019619\n",
      " Tiguan      0.017838\n",
      " Fabia       0.015802\n",
      " Octavia     0.015003\n",
      " Q3          0.014113\n",
      " A4          0.014072\n",
      " A1          0.013683\n",
      " Tucson      0.013100\n",
      " 2 Series    0.012158\n",
      " EcoSport    0.011534\n",
      " I10         0.010858\n",
      " 5 Series    0.010756\n",
      " Insignia    0.010388\n",
      " 4 Series    0.010091\n",
      "Name: proportion, dtype: float64\n"
     ]
    }
   ],
   "source": [
    "print(models_over_1percent)"
   ]
  },
  {
   "cell_type": "code",
   "execution_count": 17,
   "metadata": {},
   "outputs": [
    {
     "name": "stdout",
     "output_type": "stream",
     "text": [
      "0.14795918367346939\n"
     ]
    }
   ],
   "source": [
    "print(len(models_over_1percent)/len(data.model.unique()))"
   ]
  },
  {
   "cell_type": "code",
   "execution_count": 10,
   "metadata": {},
   "outputs": [
    {
     "name": "stdout",
     "output_type": "stream",
     "text": [
      "0.06661413132470935\n",
      "0.04909325364336008\n",
      "0.04661658752251514\n",
      "0.03780497789421975\n",
      "0.03361920746684133\n",
      "0.033199607008351076\n",
      "0.027171688226625183\n",
      "0.025319305714753562\n",
      "0.024909939413787458\n",
      "0.022597019813328966\n",
      "0.02166571147863108\n",
      "0.02160430653348616\n",
      "0.020079417062387424\n",
      "0.019854265596856067\n",
      "0.019721221549042083\n",
      "0.019618879973800556\n",
      "0.017838136564598\n",
      "0.015801539217291632\n",
      "0.015003274930407729\n",
      "0.014112903225806451\n",
      "0.01407196659570984\n",
      "0.013683068609792041\n",
      "0.013099721630915342\n",
      "0.012158179138693303\n",
      "0.011533895529719994\n",
      "0.010858441133125922\n",
      "0.010756099557884395\n",
      "0.010387669887014901\n",
      "0.010090879318814475\n",
      "0.009568937285082691\n",
      "0.008985590306205993\n",
      "0.008944653676109382\n",
      "0.008842312100867857\n",
      "0.00865809726543311\n",
      "0.00846364827247421\n",
      "0.008289667594563616\n",
      "0.008279433437039463\n",
      "0.008156623546749632\n",
      "0.008023579498935647\n",
      "0.007655149828066154\n",
      "0.00732765678729327\n",
      "0.007256017684624202\n",
      "0.006867119698706402\n",
      "0.006120026199443262\n",
      "0.005823235631242836\n",
      "0.005761830686097921\n",
      "0.005628786638283936\n",
      "0.0055469133780907155\n",
      "0.005475274275421647\n",
      "0.005352464385131816\n",
      "0.0052398886523661375\n",
      "0.005198952022269527\n",
      "0.004984034714262322\n",
      "0.004902161454069101\n",
      "0.004799819878827575\n",
      "0.00477935156377927\n",
      "0.004769117406255117\n",
      "0.004748649091206812\n",
      "0.004636073358441133\n",
      "0.004636073358441133\n",
      "0.004615605043392828\n",
      "0.004574668413296217\n",
      "0.004032258064516129\n",
      "0.003909448174226298\n",
      "0.003581955133453414\n",
      "0.0035717209759292615\n",
      "0.0035512526608809563\n",
      "0.0034386769281152777\n",
      "0.003295398722777141\n",
      "0.003008842312100868\n",
      "0.003008842312100868\n",
      "0.002814393319141968\n",
      "0.002712051743900442\n",
      "0.002691583428852137\n",
      "0.0026711151138038318\n",
      "0.0026506467987555266\n",
      "0.002640412641231374\n",
      "0.002558539381038153\n",
      "0.002527836908465695\n",
      "0.002497134435893237\n",
      "0.0024869002783690845\n",
      "0.0024561978057966267\n",
      "0.002425495333224169\n",
      "0.002374324545603406\n",
      "0.002323153757982643\n",
      "0.0020980022924512853\n",
      "0.00207753397740298\n",
      "0.0020672998198788275\n",
      "0.0020161290322580645\n",
      "0.002005894874733912\n",
      "0.001924021614540691\n",
      "0.0018114458817750122\n",
      "0.0015862944162436548\n",
      "0.0015453577861470444\n",
      "0.0013918454232847552\n",
      "0.00137137710823645\n",
      "0.0012485672179466186\n",
      "0.0012485672179466186\n",
      "0.001238333060422466\n",
      "0.0012280989028983134\n",
      "0.0012076305878500082\n",
      "0.0012076305878500082\n",
      "0.0011973964303258556\n",
      "0.0011666939577533978\n",
      "0.0011666939577533978\n",
      "0.00113599148518094\n",
      "0.0011052890126084822\n",
      "0.0010950548550843296\n",
      "0.001084820697560177\n",
      "0.001084820697560177\n",
      "0.0010336499099394137\n",
      "0.0010131815948911085\n",
      "0.0009722449647944981\n",
      "0.0009722449647944981\n",
      "0.0009313083346978876\n",
      "0.0008801375470771246\n",
      "0.000869903389552972\n",
      "0.0008494350745046668\n",
      "0.0008084984444080563\n",
      "0.0008084984444080563\n",
      "0.0007573276567872933\n",
      "0.0007470934992631407\n",
      "0.0007470934992631407\n",
      "0.0007061568691665302\n",
      "0.0007061568691665302\n",
      "0.0006242836089733093\n",
      "0.0006038152939250041\n",
      "0.0005935811364008515\n",
      "0.0005833469788766989\n",
      "0.0005833469788766989\n",
      "0.0005628786638283937\n",
      "0.0005219420337317832\n",
      "0.0004400687735385623\n",
      "0.00039913214344195185\n",
      "0.00039913214344195185\n",
      "0.0003377271982970362\n",
      "0.0003274930407728836\n",
      "0.0003274930407728836\n",
      "0.00031725888324873094\n",
      "0.00029679056820042574\n",
      "0.00028655641067627314\n",
      "0.00028655641067627314\n",
      "0.00027632225315212054\n",
      "0.0002660880956279679\n",
      "0.00022515146553135745\n",
      "0.00021491730800720485\n",
      "0.00021491730800720485\n",
      "0.000184214835434747\n",
      "0.000184214835434747\n",
      "0.0001739806779105944\n",
      "0.0001739806779105944\n",
      "0.0001637465203864418\n",
      "0.0001637465203864418\n",
      "0.00015351236286228917\n",
      "0.00015351236286228917\n",
      "0.00015351236286228917\n",
      "0.00012280989028983134\n",
      "0.00012280989028983134\n",
      "0.00011257573276567873\n",
      "8.18732601932209e-05\n",
      "8.18732601932209e-05\n",
      "8.18732601932209e-05\n",
      "8.18732601932209e-05\n",
      "7.163910266906828e-05\n",
      "7.163910266906828e-05\n",
      "7.163910266906828e-05\n",
      "6.140494514491567e-05\n",
      "6.140494514491567e-05\n",
      "4.093663009661045e-05\n",
      "4.093663009661045e-05\n",
      "4.093663009661045e-05\n",
      "4.093663009661045e-05\n",
      "4.093663009661045e-05\n",
      "4.093663009661045e-05\n",
      "3.0702472572457835e-05\n",
      "3.0702472572457835e-05\n",
      "3.0702472572457835e-05\n",
      "3.0702472572457835e-05\n",
      "3.0702472572457835e-05\n",
      "3.0702472572457835e-05\n",
      "3.0702472572457835e-05\n",
      "2.0468315048305225e-05\n",
      "2.0468315048305225e-05\n",
      "2.0468315048305225e-05\n",
      "1.0234157524152612e-05\n",
      "1.0234157524152612e-05\n",
      "1.0234157524152612e-05\n",
      "1.0234157524152612e-05\n",
      "1.0234157524152612e-05\n",
      "1.0234157524152612e-05\n",
      "1.0234157524152612e-05\n",
      "1.0234157524152612e-05\n",
      "1.0234157524152612e-05\n",
      "1.0234157524152612e-05\n",
      "1.0234157524152612e-05\n",
      "1.0234157524152612e-05\n"
     ]
    }
   ],
   "source": [
    "for x in data.model.value_counts()/len(data.model):\n",
    "    print(x)"
   ]
  },
  {
   "cell_type": "code",
   "execution_count": 21,
   "metadata": {},
   "outputs": [
    {
     "data": {
      "text/plain": [
       "[<matplotlib.lines.Line2D at 0x7ff34db9bbe0>]"
      ]
     },
     "execution_count": 21,
     "metadata": {},
     "output_type": "execute_result"
    },
    {
     "data": {
      "image/png": "[encoded data removed]",
      "text/plain": [
       "<Figure size 640x480 with 1 Axes>"
      ]
     },
     "metadata": {},
     "output_type": "display_data"
    }
   ],
   "source": [
    "plt.plot(data.model.value_counts().sort_values(ascending=False).values)"
   ]
  }
 ],
 "metadata": {
  "kernelspec": {
   "display_name": "Python 3",
   "language": "python",
   "name": "python3"
  },
  "language_info": {
   "codemirror_mode": {
    "name": "ipython",
    "version": 3
   },
   "file_extension": ".py",
   "mimetype": "text/x-python",
   "name": "python",
   "nbconvert_exporter": "python",
   "pygments_lexer": "ipython3",
   "version": "3.10.12"
  }
 },
 "nbformat": 4,
 "nbformat_minor": 2
}
