{
 "cells": [
  {
   "cell_type": "markdown",
   "metadata": {},
   "source": [
    "# Test of our results\n",
    "\n",
    "In this file, we demontsrate how well our model performs compared to the baseline and we find the best parameters for our preprocessing algorithm."
   ]
  },
  {
   "cell_type": "code",
   "execution_count": null,
   "metadata": {},
   "outputs": [],
   "source": [
    "import pandas as pd\n",
    "from pipeline import get_full_pipeline_with_model\n",
    "from baseline_pipeline import get_baseline_full_pipeline\n",
    "from sklearn.model_selection import train_test_split\n",
    "\n",
    "data = pd.read_csv('CarsData.csv')\n",
    "\n",
    "full_pipeline_with_model = get_full_pipeline_with_model(data, 'price')\n",
    "baseline_full_pipeline = get_baseline_full_pipeline(data, 'price')\n",
    "\n",
    "y = data.price\n",
    "X = data.drop('price', axis=1)\n",
    "\n",
    "X_train, X_test, y_train, y_test = train_test_split(X, y, test_size=0.1, random_state=42)"
   ]
  },
  {
   "cell_type": "markdown",
   "metadata": {},
   "source": [
    "Here we search for the best parameters:"
   ]
  },
  {
   "cell_type": "code",
   "execution_count": null,
   "metadata": {},
   "outputs": [],
   "source": [
    "from sklearn.model_selection import GridSearchCV\n",
    "import warnings\n",
    "warnings.filterwarnings(\"ignore\")\n",
    "\n",
    "\n",
    "grid_params = [\n",
    "    {\n",
    "        'full_pipeline__select_from_model__threshold' : [50, 100, 200],\n",
    "        'full_pipeline__feature_extraction__method': ['PCA'],\n",
    "        'full_pipeline__feature_extraction__n_components': [0.9, 0.95, 0.99]\n",
    "    },\n",
    "    {\n",
    "        'full_pipeline__select_from_model__threshold' : [50, 100, 200],\n",
    "        'full_pipeline__feature_extraction__method': ['LDA'],\n",
    "        'full_pipeline__feature_extraction__n_components': [15, 30, 50]\n",
    "    }\n",
    "]\n",
    "\n",
    "grid = GridSearchCV(full_pipeline_with_model, grid_params, verbose=3, cv = 3, scoring = 'neg_mean_squared_error')\n",
    "grid.fit(X_train, y_train)"
   ]
  },
  {
   "cell_type": "code",
   "execution_count": null,
   "metadata": {},
   "outputs": [],
   "source": [
    "grid.best_params_"
   ]
  },
  {
   "cell_type": "code",
   "execution_count": null,
   "metadata": {},
   "outputs": [],
   "source": [
    "model = grid.best_estimator_\n",
    "model"
   ]
  },
  {
   "cell_type": "markdown",
   "metadata": {},
   "source": [
    "Here we compute the results (error) after preprocessing:"
   ]
  },
  {
   "cell_type": "code",
   "execution_count": null,
   "metadata": {},
   "outputs": [],
   "source": [
    "pip = full_pipeline_with_model.fit(X_train, y_train)"
   ]
  },
  {
   "cell_type": "code",
   "execution_count": null,
   "metadata": {},
   "outputs": [],
   "source": [
    "import numpy as np\n",
    "predicted = model.predict(X_test)\n",
    "np.sqrt(np.sum((predicted -  y_test) ** 2) / predicted.shape[0])"
   ]
  },
  {
   "cell_type": "markdown",
   "metadata": {},
   "source": [
    "Here we compute the results without preprocessing:"
   ]
  },
  {
   "cell_type": "code",
   "execution_count": null,
   "metadata": {},
   "outputs": [],
   "source": [
    "sim = baseline_full_pipeline\n",
    "sim.fit(X_train, y_train)"
   ]
  },
  {
   "cell_type": "code",
   "execution_count": null,
   "metadata": {},
   "outputs": [],
   "source": [
    "import numpy as np\n",
    "predicted = sim.predict(X_test)\n",
    "np.sqrt(np.sum((predicted -  y_test) ** 2) / predicted.shape[0])"
   ]
  },
  {
   "cell_type": "markdown",
   "metadata": {},
   "source": [
    "We can see a clear improvement."
   ]
  }
 ],
 "metadata": {
  "kernelspec": {
   "display_name": "Python 3",
   "language": "python",
   "name": "python3"
  },
  "language_info": {
   "codemirror_mode": {
    "name": "ipython",
    "version": 3
   },
   "file_extension": ".py",
   "mimetype": "text/x-python",
   "name": "python",
   "nbconvert_exporter": "python",
   "pygments_lexer": "ipython3",
   "version": "3.10.11"
  },
  "orig_nbformat": 4,
  "vscode": {
   "interpreter": {
    "hash": "767d51c1340bd893661ea55ea3124f6de3c7a262a8b4abca0554b478b1e2ff90"
   }
  }
 },
 "nbformat": 4,
 "nbformat_minor": 2
}
